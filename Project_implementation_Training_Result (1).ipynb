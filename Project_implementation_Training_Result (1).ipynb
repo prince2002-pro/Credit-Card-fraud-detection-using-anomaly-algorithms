{
 "cells": [
  {
   "cell_type": "code",
   "execution_count": 40,
   "id": "66bdaad6-cb6b-46ad-abe6-3c9e5a428e0a",
   "metadata": {},
   "outputs": [
    {
     "name": "stdout",
     "output_type": "stream",
     "text": [
      "Libraries imported successfully\n"
     ]
    }
   ],
   "source": [
    " # Importing  basic libraries\n",
    "import numpy as np\n",
    "import pandas as pd\n",
    "import matplotlib.pyplot as plt\n",
    "import seaborn as sns\n",
    "\n",
    "# Importing Machine learning\n",
    "from sklearn.ensemble import IsolationForest\n",
    "from sklearn.svm import OneClassSVM\n",
    "from sklearn.preprocessing import StandardScaler\n",
    "from sklearn.metrics import confusion_matrix, classification_report, roc_auc_score\n",
    "\n",
    "# Others libraries \n",
    "import warnings\n",
    "warnings.filterwarnings('ignore')\n",
    "\n",
    "# Display options\n",
    "pd.set_option('display.max_columns', None)\n",
    "print(\"Libraries imported successfully\")\n"
   ]
  },
  {
   "cell_type": "code",
   "execution_count": 41,
   "id": "cd3604c8-9c5c-4aaa-bfa7-abed1446eaea",
   "metadata": {},
   "outputs": [
    {
     "name": "stdout",
     "output_type": "stream",
     "text": [
      "Requirement already satisfied: kagglehub[pandas-datasets] in c:\\users\\pc\\anaconda3\\lib\\site-packages (0.3.13)\n",
      "Requirement already satisfied: packaging in c:\\users\\pc\\anaconda3\\lib\\site-packages (from kagglehub[pandas-datasets]) (23.1)\n",
      "Requirement already satisfied: pyyaml in c:\\users\\pc\\anaconda3\\lib\\site-packages (from kagglehub[pandas-datasets]) (6.0.1)\n",
      "Requirement already satisfied: requests in c:\\users\\pc\\anaconda3\\lib\\site-packages (from kagglehub[pandas-datasets]) (2.31.0)\n",
      "Requirement already satisfied: tqdm in c:\\users\\pc\\anaconda3\\lib\\site-packages (from kagglehub[pandas-datasets]) (4.65.0)\n",
      "Requirement already satisfied: pandas in c:\\users\\pc\\anaconda3\\lib\\site-packages (from kagglehub[pandas-datasets]) (2.1.4)\n",
      "Requirement already satisfied: numpy<2,>=1.23.2 in c:\\users\\pc\\anaconda3\\lib\\site-packages (from pandas->kagglehub[pandas-datasets]) (1.26.4)\n",
      "Requirement already satisfied: python-dateutil>=2.8.2 in c:\\users\\pc\\anaconda3\\lib\\site-packages (from pandas->kagglehub[pandas-datasets]) (2.8.2)\n",
      "Requirement already satisfied: pytz>=2020.1 in c:\\users\\pc\\anaconda3\\lib\\site-packages (from pandas->kagglehub[pandas-datasets]) (2023.3.post1)\n",
      "Requirement already satisfied: tzdata>=2022.1 in c:\\users\\pc\\anaconda3\\lib\\site-packages (from pandas->kagglehub[pandas-datasets]) (2023.3)\n",
      "Requirement already satisfied: charset-normalizer<4,>=2 in c:\\users\\pc\\anaconda3\\lib\\site-packages (from requests->kagglehub[pandas-datasets]) (2.0.4)\n",
      "Requirement already satisfied: idna<4,>=2.5 in c:\\users\\pc\\anaconda3\\lib\\site-packages (from requests->kagglehub[pandas-datasets]) (3.4)\n",
      "Requirement already satisfied: urllib3<3,>=1.21.1 in c:\\users\\pc\\anaconda3\\lib\\site-packages (from requests->kagglehub[pandas-datasets]) (2.0.7)\n",
      "Requirement already satisfied: certifi>=2017.4.17 in c:\\users\\pc\\anaconda3\\lib\\site-packages (from requests->kagglehub[pandas-datasets]) (2024.2.2)\n",
      "Requirement already satisfied: colorama in c:\\users\\pc\\anaconda3\\lib\\site-packages (from tqdm->kagglehub[pandas-datasets]) (0.4.6)\n",
      "Requirement already satisfied: six>=1.5 in c:\\users\\pc\\anaconda3\\lib\\site-packages (from python-dateutil>=2.8.2->pandas->kagglehub[pandas-datasets]) (1.16.0)\n"
     ]
    }
   ],
   "source": [
    "#Here we are installing the kagglehub \n",
    "!pip install kagglehub[pandas-datasets]\n"
   ]
  },
  {
   "cell_type": "code",
   "execution_count": 55,
   "id": "5d6b1457-2e1d-496b-9f32-43a14ef194cf",
   "metadata": {},
   "outputs": [
    {
     "name": "stdout",
     "output_type": "stream",
     "text": [
      "Downloading and loading the ULB credit card fraud dataset...\n",
      "Dataset loaded successfully!\n"
     ]
    }
   ],
   "source": [
    "# Set random seed for reproducibility\n",
    "np.random.seed(42)\n",
    "\n",
    "# Load the ULB credit card fraud dataset\n",
    "print(\"Downloading and loading the ULB credit card fraud dataset...\")\n",
    "try:\n",
    "    df = kagglehub.load_dataset(\n",
    "        KaggleDatasetAdapter.PANDAS,\n",
    "        \"mlg-ulb/creditcardfraud\",\n",
    "        \"creditcard.csv\",\n",
    "        pandas_kwargs={'encoding': 'latin1'}\n",
    "    )\n",
    "    print(\"Dataset loaded successfully!\")\n",
    "except Exception as e:\n",
    "    print(f\"Error loading dataset: {e}\")\n",
    "    print(\"Trying alternative method to load the dataset...\")\n",
    "    # Fallback: Download the dataset manually and read with pandas\n",
    "    dataset_path = kagglehub.dataset_download(\"mlg-ulb/creditcardfraud\")\n",
    "    df = pd.read_csv(f\"{dataset_path}/creditcard.csv\", encoding='latin1')\n",
    "    print(\"Dataset loaded using fallback method!\")\n",
    "\n",
    "#We are loading the dataset is directly from Kaggle so that we don't have to store it on the pc."
   ]
  },
  {
   "cell_type": "code",
   "execution_count": 56,
   "id": "fbca0580-e5dd-4b05-a8c2-d041f83c9147",
   "metadata": {},
   "outputs": [
    {
     "name": "stdout",
     "output_type": "stream",
     "text": [
      "First 5 records:\n",
      "    Time        V1        V2        V3        V4        V5        V6        V7  \\\n",
      "0   0.0 -1.359807 -0.072781  2.536347  1.378155 -0.338321  0.462388  0.239599   \n",
      "1   0.0  1.191857  0.266151  0.166480  0.448154  0.060018 -0.082361 -0.078803   \n",
      "2   1.0 -1.358354 -1.340163  1.773209  0.379780 -0.503198  1.800499  0.791461   \n",
      "3   1.0 -0.966272 -0.185226  1.792993 -0.863291 -0.010309  1.247203  0.237609   \n",
      "4   2.0 -1.158233  0.877737  1.548718  0.403034 -0.407193  0.095921  0.592941   \n",
      "\n",
      "         V8        V9       V10       V11       V12       V13       V14  \\\n",
      "0  0.098698  0.363787  0.090794 -0.551600 -0.617801 -0.991390 -0.311169   \n",
      "1  0.085102 -0.255425 -0.166974  1.612727  1.065235  0.489095 -0.143772   \n",
      "2  0.247676 -1.514654  0.207643  0.624501  0.066084  0.717293 -0.165946   \n",
      "3  0.377436 -1.387024 -0.054952 -0.226487  0.178228  0.507757 -0.287924   \n",
      "4 -0.270533  0.817739  0.753074 -0.822843  0.538196  1.345852 -1.119670   \n",
      "\n",
      "        V15       V16       V17       V18       V19       V20       V21  \\\n",
      "0  1.468177 -0.470401  0.207971  0.025791  0.403993  0.251412 -0.018307   \n",
      "1  0.635558  0.463917 -0.114805 -0.183361 -0.145783 -0.069083 -0.225775   \n",
      "2  2.345865 -2.890083  1.109969 -0.121359 -2.261857  0.524980  0.247998   \n",
      "3 -0.631418 -1.059647 -0.684093  1.965775 -1.232622 -0.208038 -0.108300   \n",
      "4  0.175121 -0.451449 -0.237033 -0.038195  0.803487  0.408542 -0.009431   \n",
      "\n",
      "        V22       V23       V24       V25       V26       V27       V28  \\\n",
      "0  0.277838 -0.110474  0.066928  0.128539 -0.189115  0.133558 -0.021053   \n",
      "1 -0.638672  0.101288 -0.339846  0.167170  0.125895 -0.008983  0.014724   \n",
      "2  0.771679  0.909412 -0.689281 -0.327642 -0.139097 -0.055353 -0.059752   \n",
      "3  0.005274 -0.190321 -1.175575  0.647376 -0.221929  0.062723  0.061458   \n",
      "4  0.798278 -0.137458  0.141267 -0.206010  0.502292  0.219422  0.215153   \n",
      "\n",
      "   Amount  Class  \n",
      "0  149.62      0  \n",
      "1    2.69      0  \n",
      "2  378.66      0  \n",
      "3  123.50      0  \n",
      "4   69.99      0  \n"
     ]
    }
   ],
   "source": [
    "# Display first 5 records\n",
    "print(\"First 5 records:\\n\", df.head())"
   ]
  },
  {
   "cell_type": "code",
   "execution_count": 57,
   "id": "37a722f3-67f9-4e51-9ab4-604641387dbd",
   "metadata": {},
   "outputs": [
    {
     "name": "stdout",
     "output_type": "stream",
     "text": [
      "\n",
      "Preprocessing the dataset...\n"
     ]
    }
   ],
   "source": [
    "# Data Preprocessing\n",
    "print(\"\\nPreprocessing the dataset...\")\n",
    "# Check for missing values\n",
    "if df.isnull().sum().sum() > 0:\n",
    "    print(\"Missing values detected. Filling with median...\")\n",
    "    df.fillna(df.median(), inplace=True)"
   ]
  },
  {
   "cell_type": "code",
   "execution_count": 58,
   "id": "f882c30e-fcc9-49dd-a512-23a56c2471d3",
   "metadata": {},
   "outputs": [],
   "source": [
    "# Separate features and target\n",
    "X = df.drop(columns=['Class'])\n",
    "y = df['Class']\n",
    "\n",
    "# Scale the features (important for anomaly detection algorithms)\n",
    "scaler = StandardScaler()\n",
    "X_scaled = scaler.fit_transform(X)\n",
    "\n",
    "# Split the data into training (normal transactions only) and testing sets\n",
    "X_normal = X_scaled[y == 0]\n",
    "X_test = X_scaled\n",
    "y_test = y\n"
   ]
  },
  {
   "cell_type": "code",
   "execution_count": 59,
   "id": "0d983628-e631-4ce2-8d71-464b972a5d01",
   "metadata": {},
   "outputs": [
    {
     "name": "stdout",
     "output_type": "stream",
     "text": [
      "Splitting data: Training with normal transactions, testing with all...\n",
      "\n",
      "Training Isolation Forest...\n",
      "Training One-Class SVM...\n",
      "done\n"
     ]
    }
   ],
   "source": [
    "# For training, we use only normal transactions (Class == 0)\n",
    "print(\"Splitting data: Training with normal transactions, testing with all...\")\n",
    "X_train, _, _, _ = train_test_split(X_normal, X_normal, test_size=0.2, random_state=42)\n",
    "\n",
    "# Initialize models\n",
    "iso_forest = IsolationForest(contamination=0.0017, random_state=42)  \n",
    "oc_svm = OneClassSVM(kernel='rbf', nu=0.0017) \n",
    "\n",
    "# Train Isolation Forest\n",
    "print(\"\\nTraining Isolation Forest...\")\n",
    "iso_forest.fit(X_train)\n",
    "\n",
    "# Train One-Class SVM\n",
    "print(\"Training One-Class SVM...\")\n",
    "oc_svm.fit(X_train)\n",
    "print(\"done\")"
   ]
  },
  {
   "cell_type": "code",
   "execution_count": 60,
   "id": "dc471564-7807-4959-91e5-14762fd607f9",
   "metadata": {},
   "outputs": [
    {
     "name": "stdout",
     "output_type": "stream",
     "text": [
      "\n",
      "Predicting anomalies...\n"
     ]
    }
   ],
   "source": [
    "# Predict anomalies on test set\n",
    "print(\"\\nPredicting anomalies...\")\n",
    "iso_pred = iso_forest.predict(X_test)\n",
    "oc_svm_pred = oc_svm.predict(X_test)\n",
    "\n",
    "# Convert predictions: -1 (anomaly) to 1 (fraud), 1 (normal) to 0 (non-fraud)\n",
    "iso_pred = np.where(iso_pred == -1, 1, 0)\n",
    "oc_svm_pred = np.where(oc_svm_pred == -1, 1, 0)"
   ]
  },
  {
   "cell_type": "code",
   "execution_count": 61,
   "id": "b24963ce-cad8-4075-8cff-b811e01b1fa3",
   "metadata": {},
   "outputs": [
    {
     "name": "stdout",
     "output_type": "stream",
     "text": [
      "\n",
      "Isolation Forest Performance:\n",
      "              precision    recall  f1-score   support\n",
      "\n",
      "   Non-Fraud       1.00      1.00      1.00    284315\n",
      "       Fraud       0.20      0.24      0.22       492\n",
      "\n",
      "    accuracy                           1.00    284807\n",
      "   macro avg       0.60      0.62      0.61    284807\n",
      "weighted avg       1.00      1.00      1.00    284807\n",
      "\n",
      "Isolation Forest AUC-ROC: 0.6191\n",
      "\n",
      "One-Class SVM Performance:\n",
      "              precision    recall  f1-score   support\n",
      "\n",
      "   Non-Fraud       1.00      0.99      1.00    284315\n",
      "       Fraud       0.18      0.81      0.30       492\n",
      "\n",
      "    accuracy                           0.99    284807\n",
      "   macro avg       0.59      0.90      0.65    284807\n",
      "weighted avg       1.00      0.99      1.00    284807\n",
      "\n",
      "One-Class SVM AUC-ROC: 0.9033\n"
     ]
    }
   ],
   "source": [
    "# Evaluate models\n",
    "print(\"\\nIsolation Forest Performance:\")\n",
    "print(classification_report(y_test, iso_pred, target_names=['Non-Fraud', 'Fraud']))\n",
    "iso_roc_auc = roc_auc_score(y_test, iso_pred)\n",
    "print(f\"Isolation Forest AUC-ROC: {iso_roc_auc:.4f}\")\n",
    "\n",
    "print(\"\\nOne-Class SVM Performance:\")\n",
    "print(classification_report(y_test, oc_svm_pred, target_names=['Non-Fraud', 'Fraud']))\n",
    "oc_svm_roc_auc = roc_auc_score(y_test, oc_svm_pred)\n",
    "print(f\"One-Class SVM AUC-ROC: {oc_svm_roc_auc:.4f}\")"
   ]
  },
  {
   "cell_type": "code",
   "execution_count": 62,
   "id": "195f0f7f-83a5-4bbd-87a4-1a006e1eafb8",
   "metadata": {},
   "outputs": [
    {
     "data": {
      "image/png": "[encoded data removed]",
      "text/plain": [
       "<Figure size 1000x600 with 1 Axes>"
      ]
     },
     "metadata": {},
     "output_type": "display_data"
    }
   ],
   "source": [
    "# Plot ROC Curves\n",
    "plt.figure(figsize=(10, 6))\n",
    "# Isolation Forest ROC\n",
    "iso_fpr, iso_tpr, _ = roc_curve(y_test, iso_pred)\n",
    "plt.plot(iso_fpr, iso_tpr, label=f'Isolation Forest (AUC = {iso_roc_auc:.4f})')\n",
    "# One-Class SVM ROC\n",
    "oc_fpr, oc_tpr, _ = roc_curve(y_test, oc_svm_pred)\n",
    "plt.plot(oc_fpr, oc_tpr, label=f'One-Class SVM (AUC = {oc_svm_roc_auc:.4f})')\n",
    "# Reference line\n",
    "plt.plot([0, 1], [0, 1], 'k--')\n",
    "plt.xlabel('False Positive Rate')\n",
    "plt.ylabel('True Positive Rate')\n",
    "plt.title('ROC Curve Comparison')\n",
    "plt.legend()\n",
    "plt.grid(True)\n",
    "plt.show()\n"
   ]
  },
  {
   "cell_type": "code",
   "execution_count": 63,
   "id": "f3e33c63-f7e4-4e83-8198-f9aab2ce58e2",
   "metadata": {},
   "outputs": [
    {
     "name": "stdout",
     "output_type": "stream",
     "text": [
      "\n",
      "Model Comparison Summary:\n",
      "Isolation Forest AUC-ROC: 0.6191\n",
      "One-Class SVM AUC-ROC: 0.9033\n",
      "One-Class SVM outperforms Isolation Forest based on AUC-ROC.\n"
     ]
    }
   ],
   "source": [
    "# Summary of model comparison\n",
    "print(\"\\nModel Comparison Summary:\")\n",
    "print(f\"Isolation Forest AUC-ROC: {iso_roc_auc:.4f}\")\n",
    "print(f\"One-Class SVM AUC-ROC: {oc_svm_roc_auc:.4f}\")\n",
    "if iso_roc_auc > oc_svm_roc_auc:\n",
    "    print(\"Isolation Forest outperforms One-Class SVM based on AUC-ROC.\")\n",
    "else:\n",
    "    print(\"One-Class SVM outperforms Isolation Forest based on AUC-ROC.\")"
   ]
  },
  {
   "cell_type": "code",
   "execution_count": 64,
   "id": "2baf4f10-14e0-444c-bb9e-14ccedc6567a",
   "metadata": {},
   "outputs": [
    {
     "name": "stdout",
     "output_type": "stream",
     "text": [
      "Performance Metrics\n"
     ]
    },
    {
     "data": {
      "text/html": [
       "<div>\n",
       "<style scoped>\n",
       "    .dataframe tbody tr th:only-of-type {\n",
       "        vertical-align: middle;\n",
       "    }\n",
       "\n",
       "    .dataframe tbody tr th {\n",
       "        vertical-align: top;\n",
       "    }\n",
       "\n",
       "    .dataframe thead th {\n",
       "        text-align: right;\n",
       "    }\n",
       "</style>\n",
       "<table border=\"1\" class=\"dataframe\">\n",
       "  <thead>\n",
       "    <tr style=\"text-align: right;\">\n",
       "      <th></th>\n",
       "      <th>Model</th>\n",
       "      <th>Precision</th>\n",
       "      <th>Recall</th>\n",
       "      <th>F1-Score</th>\n",
       "    </tr>\n",
       "  </thead>\n",
       "  <tbody>\n",
       "    <tr>\n",
       "      <th>0</th>\n",
       "      <td>Isolation Forest</td>\n",
       "      <td>0.202401</td>\n",
       "      <td>0.239837</td>\n",
       "      <td>0.219535</td>\n",
       "    </tr>\n",
       "    <tr>\n",
       "      <th>1</th>\n",
       "      <td>One-Class SVM</td>\n",
       "      <td>0.180587</td>\n",
       "      <td>0.813008</td>\n",
       "      <td>0.295530</td>\n",
       "    </tr>\n",
       "  </tbody>\n",
       "</table>\n",
       "</div>"
      ],
      "text/plain": [
       "              Model  Precision    Recall  F1-Score\n",
       "0  Isolation Forest   0.202401  0.239837  0.219535\n",
       "1     One-Class SVM   0.180587  0.813008  0.295530"
      ]
     },
     "metadata": {},
     "output_type": "display_data"
    },
    {
     "data": {
      "image/png": "[encoded data removed]",
      "text/plain": [
       "<Figure size 800x500 with 1 Axes>"
      ]
     },
     "metadata": {},
     "output_type": "display_data"
    }
   ],
   "source": [
    "# Performance Comparison Between Models\n",
    "from sklearn.metrics import precision_score, recall_score, f1_score\n",
    "\n",
    "# Calculate metrics for Isolation Forest\n",
    "precision_iso = precision_score(y, iso_pred)\n",
    "recall_iso = recall_score(y, iso_pred)\n",
    "f1_iso = f1_score(y, iso_pred)\n",
    "\n",
    "# Calculate metrics for One-Class SVM\n",
    "precision_svm = precision_score(y, oc_svm_pred)\n",
    "recall_svm = recall_score(y, oc_svm_pred)\n",
    "f1_svm = f1_score(y, oc_svm_pred)\n",
    "\n",
    "# Organize results in a dataframe\n",
    "performance_df = pd.DataFrame({\n",
    "    'Model': ['Isolation Forest', 'One-Class SVM'],\n",
    "    'Precision': [precision_iso, precision_svm],\n",
    "    'Recall': [recall_iso, recall_svm],\n",
    "    'F1-Score': [f1_iso, f1_svm]\n",
    "})\n",
    "\n",
    "print(\"Performance Metrics\")\n",
    "display(performance_df)\n",
    "\n",
    "# Plot the performance\n",
    "performance_df.set_index('Model', inplace=True)\n",
    "performance_df.plot(kind='bar', figsize=(8, 5))\n",
    "plt.title('Model Performance Comparison')\n",
    "plt.ylabel('Score')\n",
    "plt.ylim(0, 1)\n",
    "plt.xticks(rotation=0)\n",
    "plt.legend(loc='lower right')\n",
    "plt.show()\n"
   ]
  },
  {
   "cell_type": "code",
   "execution_count": 65,
   "id": "c87872f0-cfd0-4b0a-8417-b68a17ae634b",
   "metadata": {},
   "outputs": [
    {
     "name": "stdout",
     "output_type": "stream",
     "text": [
      " Models and scaler saved successfully in the 'saved_models' folder.\n"
     ]
    }
   ],
   "source": [
    "import joblib\n",
    "import os\n",
    "\n",
    "# Create a folder to store models\n",
    "os.makedirs(\"saved_models\", exist_ok=True)\n",
    "\n",
    "# Save both trained models\n",
    "joblib.dump(iso_forest, \"saved_models/isolation_forest_model.pkl\")\n",
    "joblib.dump(oc_svm, \"saved_models/one_class_svm_model.pkl\")\n",
    "joblib.dump(scaler, \"saved_models/feature_scaler.pkl\") \n",
    "\n",
    "print(\" Models and scaler saved successfully in the 'saved_models' folder.\")\n"
   ]
  },
  {
   "cell_type": "code",
   "execution_count": 66,
   "id": "6623af8e-92c5-449e-b1ed-1dd0bc1790f8",
   "metadata": {},
   "outputs": [
    {
     "name": "stdout",
     "output_type": "stream",
     "text": [
      "Models and scaler loaded successfully!\n",
      "Sample predictions (Isolation Forest): [0 0 0 0 0]\n"
     ]
    }
   ],
   "source": [
    "\n",
    "# Load models and scaler\n",
    "iso_forest_loaded = joblib.load(\"saved_models/isolation_forest_model.pkl\")\n",
    "oc_svm_loaded = joblib.load(\"saved_models/one_class_svm_model.pkl\")\n",
    "scaler_loaded = joblib.load(\"saved_models/feature_scaler.pkl\")\n",
    "\n",
    "print(\"Models and scaler loaded successfully!\")\n",
    "\n",
    "# Example: making a prediction on the first 5 test samples\n",
    "X_test_scaled = scaler_loaded.transform(df.drop(columns=['Class']))\n",
    "sample_pred = iso_forest_loaded.predict(X_test_scaled[:5])\n",
    "sample_pred = np.where(sample_pred == -1, 1, 0)\n",
    "print(\"Sample predictions (Isolation Forest):\", sample_pred)\n"
   ]
  },
  {
   "cell_type": "code",
   "execution_count": null,
   "id": "ee213f20-dfeb-4caf-8da8-0b43c049192f",
   "metadata": {},
   "outputs": [],
   "source": []
  }
 ],
 "metadata": {
  "kernelspec": {
   "display_name": "Python 3 (ipykernel)",
   "language": "python",
   "name": "python3"
  },
  "language_info": {
   "codemirror_mode": {
    "name": "ipython",
    "version": 3
   },
   "file_extension": ".py",
   "mimetype": "text/x-python",
   "name": "python",
   "nbconvert_exporter": "python",
   "pygments_lexer": "ipython3",
   "version": "3.11.7"
  }
 },
 "nbformat": 4,
 "nbformat_minor": 5
}
